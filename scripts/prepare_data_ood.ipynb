{
 "cells": [
  {
   "cell_type": "code",
   "execution_count": 274,
   "id": "ab861880-59bd-40a7-bb1a-3f266f20b162",
   "metadata": {},
   "outputs": [],
   "source": [
    "import glob, os, shutil\n",
    "import pandas as pd\n",
    "import numpy as np"
   ]
  },
  {
   "cell_type": "code",
   "execution_count": 275,
   "id": "99585fcc-2836-4e80-a171-11a4ef29116e",
   "metadata": {},
   "outputs": [],
   "source": [
    "def makedir(path):\n",
    "    if not os.path.exists(path):\n",
    "        os.mkdir(path)"
   ]
  },
  {
   "cell_type": "code",
   "execution_count": 276,
   "id": "c4c463e9-9f4b-436f-99ae-7bd15bf3e349",
   "metadata": {},
   "outputs": [],
   "source": [
    "root = '/home/user1/ariel/fed_learn/large_vlm_distillation_ood/resnet18_classification_on_s_cars_dataset/s_cars_orig/'\n",
    "dest = '/home/user1/ariel/fed_learn/large_vlm_distillation_ood/resnet18_classification_on_s_cars_dataset/s_cars_ood/'"
   ]
  },
  {
   "cell_type": "code",
   "execution_count": 277,
   "id": "cae3eba8-fd45-41f5-bd24-f88d17b7bb22",
   "metadata": {},
   "outputs": [],
   "source": [
    "makedir(dest)"
   ]
  },
  {
   "cell_type": "code",
   "execution_count": 278,
   "id": "25c3626e-de4b-4910-a18e-aaaee121c652",
   "metadata": {},
   "outputs": [
    {
     "data": {
      "text/plain": [
       "(None, None, None)"
      ]
     },
     "execution_count": 278,
     "metadata": {},
     "output_type": "execute_result"
    }
   ],
   "source": [
    "makedir('s_cars_ood/train/'),makedir('s_cars_ood/test_ood/'),makedir('s_cars_ood/test_ind/')"
   ]
  },
  {
   "cell_type": "code",
   "execution_count": 279,
   "id": "0553373e-41d0-4c53-9beb-983fd76fb64a",
   "metadata": {},
   "outputs": [],
   "source": [
    "train_folds, test_folds = os.listdir(root+'train/'), os.listdir(root+'test/')\n",
    "for fold in train_folds:\n",
    "    makedir(dest+'train/'+fold)\n",
    "    makedir(dest+'test_ind/'+fold)"
   ]
  },
  {
   "cell_type": "code",
   "execution_count": 280,
   "id": "81208c23-62b2-4a7b-b10d-51b924aa7537",
   "metadata": {},
   "outputs": [],
   "source": [
    "new_test_index = sum([len(os.listdir(root+'train/'+fold)) for fold in os.listdir(root+'train/')])\n",
    "for fold in os.listdir(root+'test/'):\n",
    "   for file in glob.glob(os.path.join(root+'test/'+fold, '*.jpg')):\n",
    "       new_file_num = str(int(file.split('/')[-1].split('.')[0])+new_test_index)\n",
    "       #print(root+'train/'+fold+'/'+new_file_num+'.jpg')\n",
    "       shutil.copy(file, dest+'train/'+fold+'/'+new_file_num+'.jpg')\n",
    "for fold in os.listdir(root+'train/'):\n",
    "   for file in glob.glob(os.path.join(root+'train/'+fold, '*.jpg')):\n",
    "       file_name = file.split('/')[-1]\n",
    "       shutil.copy(file, dest+'train/'+fold+'/'+file_name)"
   ]
  },
  {
   "cell_type": "code",
   "execution_count": 281,
   "id": "417ef1cc-8964-46a4-9c62-464f5537b0ed",
   "metadata": {},
   "outputs": [],
   "source": [
    "df_train, df_test = pd.read_csv(root+'anno_train.csv',header=None), pd.read_csv(root+'anno_test.csv',header=None)\n",
    "df_names = pd.read_csv(root+'names.csv', header=None)"
   ]
  },
  {
   "cell_type": "code",
   "execution_count": 282,
   "id": "ad613e36-5cca-4566-b979-e6e3c0e6c2cc",
   "metadata": {},
   "outputs": [],
   "source": [
    "def add_value_to_filename(filename, value):\n",
    "    # Extract numeric part and convert to integer\n",
    "    num = int(filename.split('.')[0])\n",
    "    # Add the desired value\n",
    "    new_num = num + value\n",
    "    # Format back to the original format with leading zeros\n",
    "    new_filename = f'{new_num:05d}.jpg'\n",
    "    return new_filename"
   ]
  },
  {
   "cell_type": "code",
   "execution_count": 283,
   "id": "871aaa3d-9d7b-4822-a44a-fe89e0ce8b63",
   "metadata": {},
   "outputs": [],
   "source": [
    "df_test[0] = df_test[0].apply(add_value_to_filename, value=new_test_index)\n",
    "df_all = pd.concat([df_train,df_test], axis=0)\n",
    "df_test_ood = pd.DataFrame()"
   ]
  },
  {
   "cell_type": "code",
   "execution_count": 284,
   "id": "1f551b54-a4be-4f9e-a495-10823bcc99ce",
   "metadata": {},
   "outputs": [
    {
     "name": "stdout",
     "output_type": "stream",
     "text": [
      "shape train before(16185, 6) test_ood before (0, 0)\n",
      "shape train after(15426, 6), test_ood after (759, 6)\n"
     ]
    }
   ],
   "source": [
    "num_train_fold = len(os.listdir(root+'train/'))\n",
    "from numpy.random import default_rng\n",
    "rng = default_rng()\n",
    "choices = rng.choice(num_train_fold, size=10, replace=False)\n",
    "# add mew classes to test\n",
    "print(f'shape train before{df_all.shape} test_ood before {df_test_ood.shape}')\n",
    "for choice in choices:\n",
    "    condition = df_all[5]==choice\n",
    "    rows_to_move = df_all[condition]\n",
    "    df_test_ood = pd.concat([df_test_ood, rows_to_move], ignore_index=True)\n",
    "    df_all = df_all[~condition]\n",
    "del df_train\n",
    "df_train = df_all\n",
    "print(f'shape train after{df_train.shape}, test_ood after {df_test_ood.shape}')\n",
    "selected_folds = [train_folds[i] for i in choices]\n",
    "#after moved to test, I would like to move indicated classes to test df using the index I already have"
   ]
  },
  {
   "cell_type": "code",
   "execution_count": 285,
   "id": "a110c01b-e626-4c1e-9d7c-e87f6013d3f4",
   "metadata": {},
   "outputs": [
    {
     "name": "stdout",
     "output_type": "stream",
     "text": [
      "           0    1    2     3     4    5\n",
      "0  00001.jpg   39  116   569   375   14\n",
      "1  00002.jpg   36  116   868   587    3\n",
      "2  00003.jpg   85  109   601   381   91\n",
      "3  00004.jpg  621  393  1484  1096  134\n",
      "4  00005.jpg   14   36   133    99  106\n"
     ]
    }
   ],
   "source": [
    "for fold in selected_folds:\n",
    "    shutil.move(dest+'train/'+fold, dest+'test_ood/')\n",
    "df_test_ood.to_csv(dest+'test_ood.csv',header=None)\n",
    "print(df_train.head())"
   ]
  },
  {
   "cell_type": "markdown",
   "id": "9957ae55-f53c-409d-a6be-c1101fedf30c",
   "metadata": {},
   "source": [
    "## At this point start create Ind test set"
   ]
  },
  {
   "cell_type": "code",
   "execution_count": 286,
   "id": "ca6efc81-0a47-46bc-8d94-c3277bdaeae5",
   "metadata": {},
   "outputs": [
    {
     "name": "stdout",
     "output_type": "stream",
     "text": [
      "train shape before(15426, 6)\n",
      "train shape after(13862, 6)\n"
     ]
    }
   ],
   "source": [
    "df_test_ind = pd.DataFrame()\n",
    "Num_files = 10\n",
    "print(f'train shape before{df_train.shape}')\n",
    "for fold in os.listdir(dest+'train/'):\n",
    "    file_list = os.listdir(dest+'train/'+fold)\n",
    "    sampled = random.sample(file_list, Num_files)\n",
    "    for sample in sampled:\n",
    "        condition = df_train[0]==sample\n",
    "        rows_to_move = df_train[condition]\n",
    "        df_test_ind = pd.concat([df_test_ind, rows_to_move], ignore_index=True)\n",
    "        df_train = df_train[~condition]\n",
    "        src, dst = f'{dest}train/{fold}/{sample}', f'{dest}test_ind/{fold}/{sample}'\n",
    "        shutil.move(src,dst)\n",
    "print(f'train shape after{df_train.shape}')"
   ]
  },
  {
   "cell_type": "code",
   "execution_count": 287,
   "id": "49b88a83-fdac-4dba-8afe-2764e6f137d8",
   "metadata": {},
   "outputs": [],
   "source": [
    "df_train.to_csv(dest+'anno_train.csv', index=None, header=None)\n",
    "df_test_ind.to_csv(dest+'anno_test_ind.csv', index=None, header=None)"
   ]
  },
  {
   "cell_type": "code",
   "execution_count": null,
   "id": "92c7da33-e140-4b86-a783-7ab8bf202d7f",
   "metadata": {},
   "outputs": [],
   "source": []
  }
 ],
 "metadata": {
  "kernelspec": {
   "display_name": "Python 3 (ipykernel)",
   "language": "python",
   "name": "python3"
  },
  "language_info": {
   "codemirror_mode": {
    "name": "ipython",
    "version": 3
   },
   "file_extension": ".py",
   "mimetype": "text/x-python",
   "name": "python",
   "nbconvert_exporter": "python",
   "pygments_lexer": "ipython3",
   "version": "3.10.12"
  }
 },
 "nbformat": 4,
 "nbformat_minor": 5
}

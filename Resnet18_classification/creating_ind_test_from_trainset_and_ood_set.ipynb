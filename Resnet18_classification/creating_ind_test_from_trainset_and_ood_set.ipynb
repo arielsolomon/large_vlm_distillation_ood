{
 "cells": [
  {
   "cell_type": "code",
   "execution_count": 1,
   "id": "84f568ca-9f53-4eb0-8dad-ed4f06435846",
   "metadata": {},
   "outputs": [],
   "source": [
    "import os, glob\n",
    "import pandas as pd\n",
    "from shutil import move, copy\n",
    "import numpy as np"
   ]
  },
  {
   "cell_type": "code",
   "execution_count": 2,
   "id": "e3485a73-6755-4340-9a15-f7e38622bb44",
   "metadata": {},
   "outputs": [],
   "source": [
    "def mkdir(path):\n",
    "    if not os.path.exists(path):\n",
    "        os.mkdir(path)\n",
    "\n",
    "def choices(dir):\n",
    "    sample_num = len(os.listdir(dir))\n",
    "    choices = np.random.choice(sample_num, size=round(sample_num*0.1))\n",
    "    return list(choices)"
   ]
  },
  {
   "cell_type": "code",
   "execution_count": 4,
   "id": "9ab754b5-0728-4fab-8c3c-4f86b5cb723e",
   "metadata": {},
   "outputs": [],
   "source": [
    "root = '/Data/federated_learning/large_vlm_distillation_ood/Resnet18_classification/s_cars_ood_orig/'\n",
    "dest = '/Data/federated_learning/large_vlm_distillation_ood/Resnet18_classification/s_cars_ood_ind/'\n",
    "mkdir(dest)\n",
    "mkdir(dest+'train_eval_ind')"
   ]
  },
  {
   "cell_type": "code",
   "execution_count": 5,
   "id": "ec50f0ce-57ad-4c45-83f5-bf7989b705d9",
   "metadata": {},
   "outputs": [],
   "source": [
    "train_list_dir = os.listdir(root+'train/')"
   ]
  },
  {
   "cell_type": "code",
   "execution_count": 6,
   "id": "565ea23e-9124-45f3-82d3-bde379ce3089",
   "metadata": {},
   "outputs": [],
   "source": [
    "for fold in train_list_dir:\n",
    "    mkdir(dest+'train_eval_ind/'+fold)\n",
    "df_anno_train = pd.read_csv(root+'anno_train.csv', header=None)\n",
    "df_anno_train_eval_ind = pd.DataFrame()"
   ]
  },
  {
   "cell_type": "code",
   "execution_count": 7,
   "id": "a81c9540-908a-4d06-8682-bf02a68260fe",
   "metadata": {},
   "outputs": [
    {
     "name": "stdout",
     "output_type": "stream",
     "text": [
      "           0    1    2     3     4    5\n",
      "0  00002.jpg   36  116   868   587    3\n",
      "1  00003.jpg   85  109   601   381   91\n",
      "2  00004.jpg  621  393  1484  1096  134\n"
     ]
    }
   ],
   "source": [
    "print(df_anno_train.head(3))"
   ]
  },
  {
   "cell_type": "code",
   "execution_count": 11,
   "id": "4fdfa0eb-e75f-4e98-b62b-259c1c2b4a23",
   "metadata": {},
   "outputs": [],
   "source": [
    "for fold in train_list_dir:\n",
    "    choice = choices(root+'train/'+fold)\n",
    "    files = glob.glob(os.path.join(root+'train/'+fold,'*jpg'))\n",
    "    selected_files = [files[i] for i in choice]\n",
    "    for file in selected_files:\n",
    "        condition = file.split('/')[-1]\n",
    "        try:\n",
    "            move(file, dest+'train_eval_ind/'+fold)\n",
    "            condition_met = df_anno_test[0] == condition\n",
    "            rows_to_move = df_anno_test[condition_met]\n",
    "            df_anno_train_eval_ind = pd.concat([df_anno_train_eval_ind, rows_to_move])\n",
    "            df_anno_test = df_anno_test[~condition_met]\n",
    "        except:\n",
    "            pass\n",
    "df_anno_test.reset_index(drop=True, inplace=True)\n",
    "df_anno_train_eval_ind.reset_index(drop=True, inplace=True)\n",
    "df_anno_test.to_csv(dest+'anno_test.csv')\n",
    "df_anno_train_eval_ind.to_csv(dest+'anno_train_eval_ind.csv')"
   ]
  },
  {
   "cell_type": "code",
   "execution_count": 38,
   "id": "597891bb-3098-47b8-a1a2-dc28101b0ab8",
   "metadata": {},
   "outputs": [],
   "source": [
    "new_root = '/Data/federated_learning/large_vlm_distillation_ood/Resnet18_classification/s_cars_ood_ind/'\n",
    "train_dir, test_ood_dir, test_ind_dir = new_root+'train/', new_root+'test_ind/', new_root+'test_ood/'"
   ]
  },
  {
   "cell_type": "code",
   "execution_count": 43,
   "id": "baf4f45c-9768-4984-8e78-62b2be0f41e2",
   "metadata": {},
   "outputs": [],
   "source": [
    "#write the label2text file:\n",
    "dest = '/Data/federated_learning/large_vlm_distillation_ood/data/Stanford_cars/'\n",
    "train_classes_name = pd.read_csv(new_root+'names.csv', header=None)\n",
    "train_classes_name = train_classes_name.sort_values(by=0, ascending=True).reset_index()\n",
    "with open(dest+'label2txt.txt', 'a')as f:\n",
    "\n",
    "    asdfadsfasdf\n",
    "    for index, row  in train_classes_name.iterrows():\n",
    "        cls_name = row[0]\n",
    "        cls_index = str(index+1)\n",
    "        output_string = f\"{cls_name} {cls_index} {cls_name}\"\n",
    "        f.write(output_string+ '\\n')\n",
    "        "
   ]
  },
  {
   "cell_type": "code",
   "execution_count": null,
   "id": "8823a876-d484-4c47-a65e-606b325e4ca8",
   "metadata": {},
   "outputs": [],
   "source": [
    "#write the train, val_on_train and val files\n",
    "root_anno = '/Data/federated_learning/large_vlm_distillation_ood/Resnet18_classification/s_cars_ood_ind/'\n",
    "df_train, df_test_ind, df_test_ood = pd.read_csv(root_anno+'anno_train.csv', header=None),pd.read_csv(root_anno+'anno_test_ood.csv', header=None),pd.read_csv(root_anno+'anno_test_ind.csv', header=None)\n",
    "str1 = 'train/'\n",
    "df_names = pd.read_csv(root_anno+'names.csv', header=None)\n",
    "with open(dest+'train.txt', 'a')as f:\n",
    "    for index, row  in df_train.iterrows():\n",
    "        cls_index = str(row[5]\n",
    "        cls_name = df_names[cls_index][0]\n",
    "        print(cls_name)"
   ]
  },
  {
   "cell_type": "code",
   "execution_count": null,
   "id": "6419a10b-f87d-47ae-88cd-b8680909940c",
   "metadata": {},
   "outputs": [],
   "source": []
  },
  {
   "cell_type": "code",
   "execution_count": null,
   "id": "3eba13a3-2b55-4715-bfbc-a3988940ff87",
   "metadata": {},
   "outputs": [],
   "source": []
  }
 ],
 "metadata": {
  "kernelspec": {
   "display_name": "Python 3 (ipykernel)",
   "language": "python",
   "name": "python3"
  },
  "language_info": {
   "codemirror_mode": {
    "name": "ipython",
    "version": 3
   },
   "file_extension": ".py",
   "mimetype": "text/x-python",
   "name": "python",
   "nbconvert_exporter": "python",
   "pygments_lexer": "ipython3",
   "version": "3.10.12"
  }
 },
 "nbformat": 4,
 "nbformat_minor": 5
}

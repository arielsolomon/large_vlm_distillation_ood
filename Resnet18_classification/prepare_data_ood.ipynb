{
 "cells": [
  {
   "cell_type": "code",
   "execution_count": 42,
   "id": "ab861880-59bd-40a7-bb1a-3f266f20b162",
   "metadata": {},
   "outputs": [],
   "source": [
    "import glob, os, shutil\n",
    "import pandas as pd\n",
    "import numpy as np"
   ]
  },
  {
   "cell_type": "code",
   "execution_count": 43,
   "id": "99585fcc-2836-4e80-a171-11a4ef29116e",
   "metadata": {},
   "outputs": [
    {
     "data": {
      "text/plain": [
       "'/Data/federated_learning/large_vlm_distillation_ood/Resnet18_classification/s_cars_ood'"
      ]
     },
     "execution_count": 43,
     "metadata": {},
     "output_type": "execute_result"
    }
   ],
   "source": [
    "pwd"
   ]
  },
  {
   "cell_type": "code",
   "execution_count": 5,
   "id": "cae3eba8-fd45-41f5-bd24-f88d17b7bb22",
   "metadata": {},
   "outputs": [],
   "source": [
    "os.mkdir('s_cars_ood')"
   ]
  },
  {
   "cell_type": "code",
   "execution_count": 6,
   "id": "25c3626e-de4b-4910-a18e-aaaee121c652",
   "metadata": {},
   "outputs": [
    {
     "data": {
      "text/plain": [
       "(None, None)"
      ]
     },
     "execution_count": 6,
     "metadata": {},
     "output_type": "execute_result"
    }
   ],
   "source": [
    "os.mkdir('s_cars_ood/train/'),os.mkdir('s_cars_ood/test/')"
   ]
  },
  {
   "cell_type": "code",
   "execution_count": 3,
   "id": "36380056-07c4-463f-844f-91af55c5ece7",
   "metadata": {},
   "outputs": [
    {
     "name": "stdout",
     "output_type": "stream",
     "text": [
      "anno_test.csv                            \u001b[0m\u001b[01;34ms_cars_ood\u001b[0m/\n",
      "anno_train.csv                           stanfordCars_dataloader.py\n",
      "\u001b[01;34mcar_data\u001b[0m/                                train_resnet18_1.py\n",
      "Classify_StanfordCars_on_resnet18.ipynb  train_resnet18.py\n",
      "names.csv                                train_resnet18_StCars.py\n",
      "play.py                                  Untitled.ipynb\n",
      "plot_cifar_on_resnet18_train_results.py\n"
     ]
    }
   ],
   "source": [
    "ls"
   ]
  },
  {
   "cell_type": "code",
   "execution_count": 9,
   "id": "b0acd22c-99fd-4189-abad-8de11b58dbb7",
   "metadata": {},
   "outputs": [
    {
     "data": {
      "text/plain": [
       "'\\n1. copy test to train data also same in csv\\n2. copy 10 directories back to test\\n3. strip each dataset (train, test) from directoies to sit in either train or test folders\\n'"
      ]
     },
     "execution_count": 9,
     "metadata": {},
     "output_type": "execute_result"
    }
   ],
   "source": [
    "# would like to do: \n",
    "\"\"\"\n",
    "1. copy test to train data also same in csv\n",
    "2. copy 10 directories back to test\n",
    "3. strip each dataset (train, test) from directoies to sit in either train or test folders\n",
    "\"\"\""
   ]
  },
  {
   "cell_type": "code",
   "execution_count": 44,
   "id": "8b3ad7b1-1269-4f47-b7f9-c94f249433e5",
   "metadata": {},
   "outputs": [],
   "source": [
    "root = '/Data/federated_learning/large_vlm_distillation_ood/Resnet18_classification/s_cars_ood/'"
   ]
  },
  {
   "cell_type": "code",
   "execution_count": 45,
   "id": "0553373e-41d0-4c53-9beb-983fd76fb64a",
   "metadata": {},
   "outputs": [],
   "source": [
    "train_folds, test_folds = os.listdir(root+'train/'), os.listdir(root+'test/')"
   ]
  },
  {
   "cell_type": "code",
   "execution_count": 34,
   "id": "81208c23-62b2-4a7b-b10d-51b924aa7537",
   "metadata": {},
   "outputs": [],
   "source": [
    "new_test_index = 8144\n",
    "for fold in os.listdir(root+'test/'):\n",
    "   for file in glob.glob(os.path.join(root+'test/'+fold, '*.jpg')):\n",
    "       new_file_num = str(int(file.split('/')[-1].split('.')[0])+new_test_index)\n",
    "       #print(root+'train/'+fold+'/'+new_file_num+'.jpg')\n",
    "       shutil.copy(file, root+'train/'+fold+'/'+new_file_num+'.jpg')"
   ]
  },
  {
   "cell_type": "code",
   "execution_count": 46,
   "id": "417ef1cc-8964-46a4-9c62-464f5537b0ed",
   "metadata": {},
   "outputs": [],
   "source": [
    "df_train, df_test = pd.read_csv(root+'anno_train.csv',header=None), pd.read_csv(root+'anno_test.csv',header=None)"
   ]
  },
  {
   "cell_type": "code",
   "execution_count": 47,
   "id": "871aaa3d-9d7b-4822-a44a-fe89e0ce8b63",
   "metadata": {},
   "outputs": [
    {
     "name": "stdout",
     "output_type": "stream",
     "text": [
      "           0    1    2    3    4    5\n",
      "0  00001.jpg   30   52  246  147  181\n",
      "1  00002.jpg  100   19  576  203  103\n",
      "2  00003.jpg   51  105  968  659  145\n",
      "3  00004.jpg   67   84  581  407  187\n",
      "4  00005.jpg  140  151  593  339  185 df_train shape (8144, 6), df_test shape (8041, 6)\n"
     ]
    }
   ],
   "source": [
    "print(f'{df_test.head()} df_train shape {df_train.shape}, df_test shape {df_test.shape}')"
   ]
  },
  {
   "cell_type": "code",
   "execution_count": 48,
   "id": "e545af82-5874-4d47-9f69-4e3d426f1ddc",
   "metadata": {},
   "outputs": [],
   "source": [
    "def add_value_to_filename(filename, value):\n",
    "    # Extract numeric part and convert to integer\n",
    "    num = int(filename.split('.')[0])\n",
    "    # Add the desired value\n",
    "    new_num = num + value\n",
    "    # Format back to the original format with leading zeros\n",
    "    new_filename = f'{new_num:05d}.jpg'\n",
    "    return new_filename"
   ]
  },
  {
   "cell_type": "code",
   "execution_count": 52,
   "id": "450be049-686f-4611-aae2-7af2e05e09fb",
   "metadata": {},
   "outputs": [],
   "source": [
    "os.mkdir('test/')"
   ]
  },
  {
   "cell_type": "code",
   "execution_count": 55,
   "id": "1f551b54-a4be-4f9e-a495-10823bcc99ce",
   "metadata": {},
   "outputs": [
    {
     "name": "stdout",
     "output_type": "stream",
     "text": [
      "<class 'numpy.ndarray'> [171 161  94 187  76  31 116 113 141  34]\n"
     ]
    }
   ],
   "source": [
    "num_train_fold = len(os.listdir(root+'train/'))\n",
    "from numpy.random import default_rng\n",
    "\n",
    "rng = default_rng()\n",
    "choices = rng.choice(num_train_fold, size=10, replace=False)\n",
    "print(type(choices), choices)\n",
    "selected_folds = [train_folds[i] for i in choices]"
   ]
  },
  {
   "cell_type": "code",
   "execution_count": 60,
   "id": "a110c01b-e626-4c1e-9d7c-e87f6013d3f4",
   "metadata": {},
   "outputs": [
    {
     "name": "stdout",
     "output_type": "stream",
     "text": [
      "['Chevrolet Malibu Hybrid Sedan 2010', 'Volvo C30 Hatchback 2012', 'Audi 100 Sedan 1994', 'Ferrari California Convertible 2012', 'Audi S5 Coupe 2012', 'Dodge Caliber Wagon 2012', 'Ford F-150 Regular Cab 2007', 'Hyundai Veracruz SUV 2012', 'Audi TTS Coupe 2012', 'Buick Verano Sedan 2012']\n"
     ]
    }
   ],
   "source": [
    "print(selected_folds)\n",
    "for fold in selected_folds:\n",
    "    shutil.move(root+'train/'+fold, root+'test/')\n",
    "# at this point I moved 10 classes/folders back to test and the annotations should be prepared correctly as well"
   ]
  },
  {
   "cell_type": "code",
   "execution_count": 61,
   "id": "1ed32a1e-0f3a-4b63-b98c-6c832061f107",
   "metadata": {},
   "outputs": [],
   "source": [
    "df_test[0] = df_test[0].apply(add_value_to_filename, value=new_test_index)"
   ]
  },
  {
   "cell_type": "code",
   "execution_count": 66,
   "id": "f9cc3491-a2aa-492b-a55d-c18dedcc23ef",
   "metadata": {},
   "outputs": [
    {
     "name": "stdout",
     "output_type": "stream",
     "text": [
      "(8144, 6)\n",
      "              0    1    2     3     4    5\n",
      "0     00001.jpg   39  116   569   375   14\n",
      "1     00002.jpg   36  116   868   587    3\n",
      "2     00003.jpg   85  109   601   381   91\n",
      "3     00004.jpg  621  393  1484  1096  134\n",
      "4     00005.jpg   14   36   133    99  106\n",
      "...         ...  ...  ...   ...   ...  ...\n",
      "8139  08140.jpg    3   44   423   336   78\n",
      "8140  08141.jpg  138  150   706   523  196\n",
      "8141  08142.jpg   26  246   660   449  163\n",
      "8142  08143.jpg   78  526  1489   908  112\n",
      "8143  08144.jpg   20  240   862   677   17\n",
      "\n",
      "[8144 rows x 6 columns]\n",
      "(8041, 6)\n",
      "              0    1    2     3    4    5\n",
      "0     08145.jpg   30   52   246  147  181\n",
      "1     08146.jpg  100   19   576  203  103\n",
      "2     08147.jpg   51  105   968  659  145\n",
      "3     08148.jpg   67   84   581  407  187\n",
      "4     08149.jpg  140  151   593  339  185\n",
      "...         ...  ...  ...   ...  ...  ...\n",
      "8036  16181.jpg   49   57  1169  669   63\n",
      "8037  16182.jpg   23   18   640  459   16\n",
      "8038  16183.jpg   33   27   602  252   17\n",
      "8039  16184.jpg   33  142   521  376   38\n",
      "8040  16185.jpg   77   73   506  380   32\n",
      "\n",
      "[8041 rows x 6 columns]\n"
     ]
    }
   ],
   "source": [
    "print(df_train.shape)\n",
    "print(df_train)\n",
    "print(df_test.shape)\n",
    "print(df_test)"
   ]
  },
  {
   "cell_type": "code",
   "execution_count": 67,
   "id": "85179f6f-27fd-469e-8751-a80583f5d00d",
   "metadata": {},
   "outputs": [],
   "source": [
    "df_labels = pd.concat([df_train, df_test], axis=0, ignore_index=True)"
   ]
  },
  {
   "cell_type": "code",
   "execution_count": 68,
   "id": "95374ab8-1049-43a4-9202-af1bc3958065",
   "metadata": {},
   "outputs": [],
   "source": [
    "df_labels.to_csv('train_test_labels.csv', index=False)"
   ]
  },
  {
   "cell_type": "code",
   "execution_count": 79,
   "id": "dc53d81b-a789-4bc1-9e1e-8139d7c2559c",
   "metadata": {},
   "outputs": [],
   "source": [
    "len(os.listdir(root+'train/')), len(os.listdir(root+'test/'))\n",
    "train_fold, test_fold = os.listdir(root+'train/'), os.listdir(root+'test/')"
   ]
  },
  {
   "cell_type": "code",
   "execution_count": 109,
   "id": "a3d47af8-9ca3-4bb4-9c4c-21c814249453",
   "metadata": {},
   "outputs": [
    {
     "name": "stdout",
     "output_type": "stream",
     "text": [
      "[13, 16, 21, 48, 66, 82, 101, 113, 132, 192] <class 'list'>\n",
      "[14, 17, 22, 49, 67, 83, 102, 114, 133, 193]\n"
     ]
    }
   ],
   "source": [
    "df_names = pd.read_csv('../names.csv',header=None)\n",
    "matching_indices = df_names[df_names[0].isin(test_fold)].index.tolist()\n",
    "print(matching_indices,type(matching_indices))\n",
    "correct_ind_for_test = []\n",
    "for ind in matching_indices:\n",
    "    correct_ind_for_test.append(ind+1)\n",
    "print(correct_ind_for_test)"
   ]
  },
  {
   "cell_type": "code",
   "execution_count": 101,
   "id": "828800cf-8c3a-49a8-ad7c-2eb620e0b76b",
   "metadata": {},
   "outputs": [
    {
     "data": {
      "text/plain": [
       "['Dodge Caliber Wagon 2012',\n",
       " 'Buick Verano Sedan 2012',\n",
       " 'Audi S5 Coupe 2012',\n",
       " 'Audi 100 Sedan 1994',\n",
       " 'Hyundai Veracruz SUV 2012',\n",
       " 'Ford F-150 Regular Cab 2007',\n",
       " 'Audi TTS Coupe 2012',\n",
       " 'Volvo C30 Hatchback 2012',\n",
       " 'Chevrolet Malibu Hybrid Sedan 2010',\n",
       " 'Ferrari California Convertible 2012']"
      ]
     },
     "execution_count": 101,
     "metadata": {},
     "output_type": "execute_result"
    }
   ],
   "source": [
    "test_fold"
   ]
  },
  {
   "cell_type": "code",
   "execution_count": 112,
   "id": "2549e8d3-7d8e-4eeb-ade7-339ff9e081ac",
   "metadata": {},
   "outputs": [],
   "source": [
    "#df_train.head(), df_test.head(), correct_ind_for_test, df_labels"
   ]
  },
  {
   "cell_type": "code",
   "execution_count": 114,
   "id": "695c2a7f-360b-4019-883f-9a33fd619926",
   "metadata": {},
   "outputs": [
    {
     "name": "stdout",
     "output_type": "stream",
     "text": [
      "           0    1    2     3     4    5\n",
      "0  00001.jpg   39  116   569   375   14\n",
      "1  00002.jpg   36  116   868   587    3\n",
      "2  00003.jpg   85  109   601   381   91\n",
      "3  00004.jpg  621  393  1484  1096  134\n",
      "4  00005.jpg   14   36   133    99  106\n"
     ]
    }
   ],
   "source": [
    "print(df_labels.head())"
   ]
  },
  {
   "cell_type": "code",
   "execution_count": 133,
   "id": "884beaf1-3158-43ef-9ecb-0c8a3017187b",
   "metadata": {},
   "outputs": [
    {
     "name": "stdout",
     "output_type": "stream",
     "text": [
      "(15366, 6) (819, 6)\n"
     ]
    }
   ],
   "source": [
    "mask = df_labels[5].isin(correct_ind_for_test)\n",
    "new_df_test = df_labels[mask]\n",
    "new_df_train = df_labels[~mask]\n",
    "print(new_df_train.shape, new_df_test.shape)"
   ]
  },
  {
   "cell_type": "code",
   "execution_count": null,
   "id": "5b78e7cc-61c4-4472-9026-b70f922769ac",
   "metadata": {},
   "outputs": [],
   "source": []
  },
  {
   "cell_type": "code",
   "execution_count": 1,
   "id": "41834e82-5278-4ce4-8fcc-da0af7a903a9",
   "metadata": {},
   "outputs": [
    {
     "ename": "NameError",
     "evalue": "name 'new_df_test' is not defined",
     "output_type": "error",
     "traceback": [
      "\u001b[0;31m---------------------------------------------------------------------------\u001b[0m",
      "\u001b[0;31mNameError\u001b[0m                                 Traceback (most recent call last)",
      "Cell \u001b[0;32mIn[1], line 1\u001b[0m\n\u001b[0;32m----> 1\u001b[0m \u001b[43mnew_df_test\u001b[49m\u001b[38;5;241m.\u001b[39mto_csv(\u001b[38;5;124m'\u001b[39m\u001b[38;5;124manno_test.csv\u001b[39m\u001b[38;5;124m'\u001b[39m)\n\u001b[1;32m      2\u001b[0m new_df_train\u001b[38;5;241m.\u001b[39mto_csv(\u001b[38;5;124m'\u001b[39m\u001b[38;5;124manno_train.csv\u001b[39m\u001b[38;5;124m'\u001b[39m)\n",
      "\u001b[0;31mNameError\u001b[0m: name 'new_df_test' is not defined"
     ]
    }
   ],
   "source": [
    "new_df_test.to_csv('anno_test.csv')\n",
    "new_df_train.to_csv('anno_train.csv')"
   ]
  },
  {
   "cell_type": "code",
   "execution_count": null,
   "id": "e633f539-a975-4369-bb67-a7f4cb26f23e",
   "metadata": {},
   "outputs": [],
   "source": []
  }
 ],
 "metadata": {
  "kernelspec": {
   "display_name": "Python 3 (ipykernel)",
   "language": "python",
   "name": "python3"
  },
  "language_info": {
   "codemirror_mode": {
    "name": "ipython",
    "version": 3
   },
   "file_extension": ".py",
   "mimetype": "text/x-python",
   "name": "python",
   "nbconvert_exporter": "python",
   "pygments_lexer": "ipython3",
   "version": "3.10.12"
  }
 },
 "nbformat": 4,
 "nbformat_minor": 5
}

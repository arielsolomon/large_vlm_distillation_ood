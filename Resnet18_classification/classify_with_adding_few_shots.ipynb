{
 "cells": [
  {
   "cell_type": "code",
   "execution_count": null,
   "id": "b42d6f44-7bee-45ab-bca0-a91e18d0d876",
   "metadata": {},
   "outputs": [],
   "source": [
    "import pandas as pd\n",
    "from torch.utils.data import DataLoader, Subset\n",
    "import torch\n",
    "import torch.nn as nn\n",
    "import torch.optim as optim\n",
    "import torchvision\n",
    "from tqdm import tqdm\n",
    "import time\n",
    "import torchvision\n",
    "import torchvision.models as models\n",
    "import torchvision.transforms as transforms\n",
    "import wandb"
   ]
  },
  {
   "cell_type": "code",
   "execution_count": null,
   "id": "529167b6-7cb6-43a6-9406-73e96822c9ed",
   "metadata": {},
   "outputs": [],
   "source": [
    "model_path = ['epoch_8_best_model.pt','resnet50_dist_against_non_fine_tuned_23_07.pth','resnet50_dist_against_finetuned_clip_24_07_2024.pth']\n",
    "wandb.init(project=model_path[0]+'0.001LR')  # Replace with your project name"
   ]
  },
  {
   "cell_type": "code",
   "execution_count": null,
   "id": "45abd965-e7fc-42e5-983e-66566be707e5",
   "metadata": {},
   "outputs": [],
   "source": [
    "device = torch.device(\"cuda:0\" if torch.cuda.is_available() else \"cpu\")\n",
    "print(device)\n",
    "print(torch.cuda.get_device_name(device))"
   ]
  },
  {
   "cell_type": "code",
   "execution_count": null,
   "id": "681aa359-e41b-4df2-a04d-832bbe3be0b9",
   "metadata": {},
   "outputs": [],
   "source": [
    "dataset_dir = \"/home/user1/ariel/fed_learn/large_vlm_distillation_ood/s_cars_ood_ind_test_test_val/\""
   ]
  },
  {
   "cell_type": "code",
   "execution_count": null,
   "id": "33985385-6be0-491b-9703-2c5e6dbd1f59",
   "metadata": {},
   "outputs": [],
   "source": [
    "train_tfms = transforms.Compose([transforms.Resize((400, 400)),\n",
    "                                 transforms.RandomHorizontalFlip(),\n",
    "                                 transforms.RandomRotation(15),\n",
    "                                 transforms.ToTensor(),\n",
    "                                 transforms.Normalize((0.5, 0.5, 0.5), (0.5, 0.5, 0.5))])\n",
    "test_tfms = transforms.Compose([transforms.Resize((400, 400)),\n",
    "                                transforms.ToTensor(),\n",
    "                                transforms.Normalize((0.5, 0.5, 0.5), (0.5, 0.5, 0.5))])\n",
    "train_ind_tfms = transforms.Compose([transforms.Resize((400, 400)),\n",
    "                                 transforms.RandomHorizontalFlip(),\n",
    "                                 transforms.RandomRotation(15),\n",
    "                                 transforms.ToTensor(),\n",
    "                                 transforms.Normalize((0.5, 0.5, 0.5), (0.5, 0.5, 0.5))])\n",
    "# training is done with 5 samples of each class of the ood data\n",
    "dataset_train = torchvision.datasets.ImageFolder(root=dataset_dir+\"test_to_add/\", transform = train_tfms)\n",
    "trainloader = torch.utils.data.DataLoader(dataset_train, batch_size = 5, shuffle=True, num_workers = 4)\n",
    "# inference is done with same classes, different instances\n",
    "dataset_test_ood = torchvision.datasets.ImageFolder(root=dataset_dir+\"test/\", transform = test_tfms)\n",
    "testloader_ood = torch.utils.data.DataLoader(dataset_test_ood, batch_size = 50, shuffle=True, num_workers = 4)\n",
    "#test on train is done on ind data to make sure that the model as saved reconginzes ind data\n",
    "\n",
    "dataset_test_ind = torchvision.datasets.ImageFolder(root=dataset_dir+\"train\", transform = test_tfms) #                                                   dataset_dir+\"train\", transform = test_tfms)\n",
    "testloader_ind_on_train = torch.utils.data.DataLoader(dataset_test_ind, batch_size = 32, shuffle=True, num_workers = 4)"
   ]
  },
  {
   "cell_type": "code",
   "execution_count": null,
   "id": "be25cb9c-d175-4e1d-ac2c-2d9517474ea5",
   "metadata": {},
   "outputs": [],
   "source": [
    "def train_model(trainloader, testloader_ood,testloader_ind_on_train,  model, criterion, optimizer, lrscheduler,\n",
    "                n_epochs=5):\n",
    "    losses = []\n",
    "    train_ood_accuracies = []\n",
    "    test_ood_accuracies = []\n",
    "    test_ind_on_train_accuracies = []\n",
    "\n",
    "        #wandb.log({\"test_ind_on_train\": test_ind_on_train})\n",
    "\n",
    "    for epoch in range(n_epochs):\n",
    "        model = model.to(device)\n",
    "        model.eval()\n",
    "        name = 'test_on_ood'\n",
    "        test_ood = eval_model(model, testloader_ood, name)\n",
    "        test_ood_accuracies.append(test_ood)\n",
    "        wandb.log({\"test_ood_acc\":  test_ood})\n",
    "        name2 = 'test_ind_on_train'\n",
    "        test_ind_on_train = eval_model(model, testloader_ind_on_train,name2)\n",
    "        test_ind_on_train_accuracies.append(test_ind_on_train)\n",
    "        wandb.log({\"test_ind_on_train\": test_ind_on_train})\n",
    "        since = time.time()\n",
    "        running_loss = 0.0\n",
    "        running_correct = 0.0\n",
    "        model.train()\n",
    "        for i, data in enumerate(tqdm(trainloader, desc=\"Training few shots on ood\", leave=False)):\n",
    "            inputs, labels = data\n",
    "            inputs, labels = inputs.to(device), labels.to(device)\n",
    "            optimizer.zero_grad()\n",
    "            outputs = model(inputs)\n",
    "            _, predicted = torch.max(outputs.data, 1)\n",
    "            loss = criterion(outputs, labels)\n",
    "            loss.backward()\n",
    "            optimizer.step()\n",
    "            running_loss += loss.item()\n",
    "            running_correct += (labels == predicted).sum().item()\n",
    "\n",
    "        epoch_duration = time.time() - since\n",
    "        epoch_loss = running_loss / len(trainloader)\n",
    "        epoch_acc = 100 * running_correct / (len(trainloader) * 5)#100/5 * running_correct / len(trainloader) #100/5*running_correct/len(trainloader)# 1\n",
    "        print(\n",
    "            f\"\\nEpoch {epoch + 1}, duration: {epoch_duration:.2f} s, OOD_train_loss: {epoch_loss:.4f}, ood_train acc: {epoch_acc:.2f}\")\n",
    "        wandb.log({\"train_ood_loss\": epoch_loss, \"train_ood_acc\": epoch_acc})\n",
    "        losses.append(epoch_loss)\n",
    "        train_ood_accuracies.append(epoch_acc)\n",
    "        # model.eval()\n",
    "        # name = 'test_on_ood'\n",
    "        # test_ood = eval_model(model, testloader_ood, name)\n",
    "        # test_ood_accuracies.append(test_ood)\n",
    "        # #wandb.log({\"epoch\": epoch + 1, \"test_ood_acc\":  test_ood})\n",
    "        # name2 = 'test_ind_on_train'\n",
    "        # test_ind_on_train = eval_model(model, testloader_ind_on_train,name2)\n",
    "        # test_ind_on_train_accuracies.append(test_ind_on_train)\n",
    "        # #wandb.log({\"test_ind_on_train\": test_ind_on_train})\n",
    "\n",
    "\n",
    "        lrscheduler.step(test_ood)\n",
    "        since = time.time()\n",
    "\n",
    "    print('Finished Training')\n",
    "    return model, losses, train_ood_accuracies, test_ood_accuracies, test_ind_on_train_accuracies\n"
   ]
  },
  {
   "cell_type": "code",
   "execution_count": null,
   "id": "f2fbae2f-cfa8-45c8-9084-8634a53a7a1d",
   "metadata": {},
   "outputs": [],
   "source": [
    "def eval_model(model, testloader_ood, name):\n",
    "    correct = 0.0\n",
    "    total = 0.0\n",
    "    testloader_ood = testloader_ood\n",
    "    with torch.no_grad():\n",
    "        for i, data in enumerate(tqdm(testloader_ood, desc=\"test\", leave=False)):\n",
    "            images, labels = data\n",
    "            images = images.to(device)\n",
    "            labels = labels.to(device)\n",
    "\n",
    "            outputs = model(images)\n",
    "            _, predicted = torch.max(outputs.data, 1)\n",
    "\n",
    "            total += labels.size(0)\n",
    "            correct += (predicted == labels).sum().item()\n",
    "        test_acc = 100.0 * correct / total\n",
    "    print(f'\\n{name}: {test_acc:.2f}')\n",
    "    return test_acc\n"
   ]
  },
  {
   "cell_type": "code",
   "execution_count": null,
   "id": "ad79c467-33bd-417d-aabb-b871a621a0ae",
   "metadata": {},
   "outputs": [],
   "source": [
    "model_dist = torch.load(model_path[0])\n",
    "print(f'\\nmodel was loaded\\n')\n",
    "# model = models.resnet50(pretrained=False)\n",
    "# num_ftrs = model_ft.fc.in_features\n",
    "# model_ft.fc = nn.Linear(num_ftrs, 186)\n",
    "#model.load_state_dict(model_dist, strict=False)\n",
    "model_ft = model_dist.to(device)\n",
    "criterion = nn.CrossEntropyLoss()\n",
    "lr = 0.001\n",
    "optimizer = optim.SGD(model_ft.parameters(), lr=lr,momentum=0.9)\n",
    "lrscheduler = optim.lr_scheduler.ReduceLROnPlateau(optimizer, mode='max', patience=3, threshold = 0.9)\n",
    "n_epochs = 40"
   ]
  },
  {
   "cell_type": "code",
   "execution_count": null,
   "id": "8589f2df-6634-4e16-b97c-cce87f4c1aa7",
   "metadata": {},
   "outputs": [],
   "source": [
    "model, losses, train_ood_accuracies, test_ood_accuracies, test_ind_accuracies = train_model(trainloader, testloader_ood,testloader_ind_on_train,  model_ft, criterion, optimizer, lrscheduler,\n",
    "                n_epochs)"
   ]
  },
  {
   "cell_type": "code",
   "execution_count": null,
   "id": "234b72dd-9733-4407-b833-83bb2d1d0f1d",
   "metadata": {},
   "outputs": [],
   "source": [
    "import pandas as pd\n",
    "import matplotlib.pyplot as plt\n",
    "src = '/home/user1/ariel/fed_learn/large_vlm_distillation_ood/resnet18_classification_on_s_cars_dataset/s_cars_few_shot_train/'"
   ]
  },
  {
   "cell_type": "code",
   "execution_count": null,
   "id": "193384c3-08e4-48ee-be9b-3922840b6cbc",
   "metadata": {},
   "outputs": [],
   "source": [
    "df_path = src+model_path[2]+'test_ood_acc.csv'\n",
    "df = pd.DataFrame(test_ood_accuracies)\n",
    "df.to_csv(df_path, header=None, index=False)\n",
    "df = pd.read_csv(df_path, header=None)"
   ]
  },
  {
   "cell_type": "code",
   "execution_count": null,
   "id": "f563d7fb-0e28-4e6f-99af-03febf9b0dad",
   "metadata": {},
   "outputs": [],
   "source": [
    "df.max()"
   ]
  },
  {
   "cell_type": "code",
   "execution_count": null,
   "id": "133e380b-ba27-402f-9a93-f5482b95ce6a",
   "metadata": {},
   "outputs": [],
   "source": [
    "x = df.iloc[:,0]\n",
    "y= df.iloc[:,1]"
   ]
  },
  {
   "cell_type": "code",
   "execution_count": null,
   "id": "a592e542-2b4e-4d3e-9a85-c59c53c4d65f",
   "metadata": {},
   "outputs": [],
   "source": [
    "plt.plot(x,y)\n",
    "plt.xlabel('num samples')\n",
    "plt.ylabel('accuracy, %')\n",
    "plt.savefig(src+'test_accuracies_ood.png')\n",
    "plt.show()\n",
    "max_acc = df.iloc[10:,1].max()\n",
    "print(max_acc)"
   ]
  },
  {
   "cell_type": "code",
   "execution_count": null,
   "id": "057a4db1-e549-4852-b12f-10d71e1bb124",
   "metadata": {},
   "outputs": [],
   "source": []
  }
 ],
 "metadata": {
  "kernelspec": {
   "display_name": "Python 3 (ipykernel)",
   "language": "python",
   "name": "python3"
  },
  "language_info": {
   "codemirror_mode": {
    "name": "ipython",
    "version": 3
   },
   "file_extension": ".py",
   "mimetype": "text/x-python",
   "name": "python",
   "nbconvert_exporter": "python",
   "pygments_lexer": "ipython3",
   "version": "3.10.12"
  }
 },
 "nbformat": 4,
 "nbformat_minor": 5
}

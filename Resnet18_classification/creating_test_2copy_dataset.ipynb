{
 "cells": [
  {
   "cell_type": "code",
   "execution_count": 29,
   "id": "01eae7bf-c6db-45d0-8e0e-1e48494d1dba",
   "metadata": {},
   "outputs": [],
   "source": [
    "import os, glob\n",
    "import pandas as pd\n",
    "from shutil import move, copy\n",
    "import numpy as np"
   ]
  },
  {
   "cell_type": "code",
   "execution_count": 30,
   "id": "e3485a73-6755-4340-9a15-f7e38622bb44",
   "metadata": {},
   "outputs": [],
   "source": [
    "def mkdir(path):\n",
    "    if not os.path.exists(path):\n",
    "        os.mkdir(path)\n",
    "\n",
    "def choices(dir):\n",
    "    sample_num = len(os.listdir(dir))\n",
    "    choices = np.random.choice(sample_num, size=round(sample_num/2))\n",
    "    print(choices.shape)\n",
    "    return list(choices)"
   ]
  },
  {
   "cell_type": "code",
   "execution_count": 31,
   "id": "9ab754b5-0728-4fab-8c3c-4f86b5cb723e",
   "metadata": {},
   "outputs": [],
   "source": [
    "root = '/Data/federated_learning/large_vlm_distillation_ood/Resnet18_classification/s_cars_ood_adding_ood/'\n",
    "mkdir(root+'test_2add')"
   ]
  },
  {
   "cell_type": "code",
   "execution_count": 32,
   "id": "ec50f0ce-57ad-4c45-83f5-bf7989b705d9",
   "metadata": {},
   "outputs": [],
   "source": [
    "test_list_dirs = os.listdir(root+'test/')"
   ]
  },
  {
   "cell_type": "code",
   "execution_count": 33,
   "id": "565ea23e-9124-45f3-82d3-bde379ce3089",
   "metadata": {},
   "outputs": [],
   "source": [
    "for fold in test_list_dirs:\n",
    "    mkdir(root+'test_2add/'+fold)\n",
    "df_anno_test = pd.read_csv(root+'anno_test.csv', header=None)\n",
    "df_anno_test2copy = pd.DataFrame()"
   ]
  },
  {
   "cell_type": "code",
   "execution_count": 34,
   "id": "a81c9540-908a-4d06-8682-bf02a68260fe",
   "metadata": {},
   "outputs": [
    {
     "name": "stdout",
     "output_type": "stream",
     "text": [
      "           0   1    2    3    4    5\n",
      "0  00001.jpg  39  116  569  375   14\n",
      "1  00011.jpg  51   93  601  393   49\n",
      "2  00015.jpg  32   77  589  379  193 (819, 6)\n"
     ]
    }
   ],
   "source": [
    "print(df_anno_test.head(3), df_anno_test.shape)"
   ]
  },
  {
   "cell_type": "code",
   "execution_count": 35,
   "id": "4fdfa0eb-e75f-4e98-b62b-259c1c2b4a23",
   "metadata": {},
   "outputs": [
    {
     "name": "stdout",
     "output_type": "stream",
     "text": [
      "(40,)\n",
      "(38,)\n",
      "(42,)\n",
      "(40,)\n",
      "(42,)\n",
      "(45,)\n",
      "(42,)\n",
      "(42,)\n",
      "(38,)\n",
      "(39,)\n"
     ]
    }
   ],
   "source": [
    "for fold in test_list_dirs:\n",
    "    choice = choices(root+'test/'+fold)\n",
    "    files = glob.glob(os.path.join(root+'test/'+fold,'*jpg'))\n",
    "    selected_files = [files[i] for i in choice]\n",
    "    for file in selected_files:\n",
    "        condition = file.split('/')[-1]\n",
    "        try:\n",
    "            move(file, root+'test_2add/'+fold)\n",
    "            condition_met = df_anno_test[0] == condition\n",
    "            rows_to_move = df_anno_test[condition_met]\n",
    "            df_anno_test2copy = pd.concat([df_anno_test2copy, rows_to_move])\n",
    "            df_anno_test = df_anno_test[~condition_met]\n",
    "        except:\n",
    "            pass\n",
    "df_anno_test.reset_index(drop=True, inplace=True)\n",
    "df_anno_test2copy.reset_index(drop=True, inplace=True)\n",
    "df_anno_test.to_csv(root+'anno_test.csv')\n",
    "df_anno_test2copy.to_csv(root+'anno_test_2copy.csv')"
   ]
  },
  {
   "cell_type": "code",
   "execution_count": null,
   "id": "597891bb-3098-47b8-a1a2-dc28101b0ab8",
   "metadata": {},
   "outputs": [],
   "source": []
  },
  {
   "cell_type": "code",
   "execution_count": null,
   "id": "baf4f45c-9768-4984-8e78-62b2be0f41e2",
   "metadata": {},
   "outputs": [],
   "source": []
  }
 ],
 "metadata": {
  "kernelspec": {
   "display_name": "Python 3 (ipykernel)",
   "language": "python",
   "name": "python3"
  },
  "language_info": {
   "codemirror_mode": {
    "name": "ipython",
    "version": 3
   },
   "file_extension": ".py",
   "mimetype": "text/x-python",
   "name": "python",
   "nbconvert_exporter": "python",
   "pygments_lexer": "ipython3",
   "version": "3.10.12"
  }
 },
 "nbformat": 4,
 "nbformat_minor": 5
}
